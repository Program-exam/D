{
 "cells": [
  {
   "cell_type": "code",
   "execution_count": 40,
   "id": "462ab48a-5013-436f-bd79-86902aa43af0",
   "metadata": {},
   "outputs": [],
   "source": [
    "from keras.datasets import imdb"
   ]
  },
  {
   "cell_type": "code",
   "execution_count": 41,
   "id": "f303108a-0d12-44e6-9695-78b312b0b138",
   "metadata": {},
   "outputs": [
    {
     "name": "stdout",
     "output_type": "stream",
     "text": [
      "What a thrilling ride! The visuals were mediocre. \n",
      "\n",
      "\n"
     ]
    }
   ],
   "source": [
    "# Read data from text files\n",
    "with open('reviews.txt', 'r') as f:\n",
    "    reviews = f.read()\n",
    "\n",
    "with open('labels.txt', 'r') as f:\n",
    "    labels = f.read()\n",
    "\n",
    "print(reviews[:50])\n",
    "print()\n",
    "print(labels[:26])\n"
   ]
  },
  {
   "cell_type": "code",
   "execution_count": 42,
   "id": "7c718498-8417-4a93-b566-c68e627db539",
   "metadata": {},
   "outputs": [],
   "source": [
    "reviews = reviews.lower()"
   ]
  },
  {
   "cell_type": "code",
   "execution_count": 43,
   "id": "90a31805-a278-4547-9fd4-6bd00b6079ef",
   "metadata": {},
   "outputs": [
    {
     "name": "stdout",
     "output_type": "stream",
     "text": [
      "!\"#$%&'()*+,-./:;<=>?@[\\]^_`{|}~\n"
     ]
    }
   ],
   "source": [
    "from string import punctuation\n",
    "print(punctuation)"
   ]
  },
  {
   "cell_type": "code",
   "execution_count": 44,
   "id": "56411efc-3258-4c8b-bd92-3f6bf615e1b0",
   "metadata": {},
   "outputs": [],
   "source": [
    "all_text = ''.join([c for c in reviews if c not in punctuation])\n"
   ]
  },
  {
   "cell_type": "code",
   "execution_count": 45,
   "id": "6ddc2fb5-aebd-4a9f-be88-7a56e3fe34c9",
   "metadata": {},
   "outputs": [
    {
     "name": "stdout",
     "output_type": "stream",
     "text": [
      "Number of reviews: 2601\n"
     ]
    }
   ],
   "source": [
    "# Read data from text file\n",
    "with open('reviews.txt', 'r') as f:\n",
    "    all_text = f.read()\n",
    "\n",
    "# Split reviews into a list\n",
    "reviews_split = all_text.split('\\n')\n",
    "\n",
    "# Print the number of reviews\n",
    "print('Number of reviews:', len(reviews_split))\n"
   ]
  },
  {
   "cell_type": "code",
   "execution_count": 49,
   "id": "d229306f-7bc9-4ca6-b699-ef32b39ddc2d",
   "metadata": {},
   "outputs": [
    {
     "name": "stdout",
     "output_type": "stream",
     "text": [
      "Number of reviews: 2601\n",
      "Total words: 48326\n",
      "Most common words:\n",
      "the: 7227\n",
      "was: 3272\n",
      "were: 2052\n",
      "characters: 1816\n",
      "a: 1451\n",
      "felt: 980\n",
      "it: 909\n",
      "performances: 782\n",
      "i: 772\n",
      "film: 736\n"
     ]
    }
   ],
   "source": [
    "from collections import Counter\n",
    "from string import punctuation\n",
    "\n",
    "# Step 1: Read data from the reviews file\n",
    "with open('reviews.txt', 'r') as f:\n",
    "    all_text = f.read()\n",
    "\n",
    "# Step 2: Split reviews into a list\n",
    "reviews_split = all_text.split('\\n')\n",
    "\n",
    "# Step 3: Convert all text to lowercase\n",
    "all_text = all_text.lower()\n",
    "\n",
    "# Step 4: Remove punctuation\n",
    "all_text = ''.join([c for c in all_text if c not in punctuation])\n",
    "\n",
    "# Step 5: Create a list of words\n",
    "words = all_text.split()  # Split text into words\n",
    "\n",
    "# Step 6: Count all the words using Counter\n",
    "count_words = Counter(words)  # Count occurrences of each word\n",
    "total_words = len(words)  # Get total number of words\n",
    "sorted_words = count_words.most_common(total_words)  # Sort words by frequency\n",
    "\n",
    "# Step 7: Print results\n",
    "print('Number of reviews:', len(reviews_split))\n",
    "print('Total words:', total_words)\n",
    "print('Most common words:')\n",
    "for word, count in sorted_words[:10]:  # Print top 10 most common words\n",
    "    print(f\"{word}: {count}\")\n"
   ]
  },
  {
   "cell_type": "code",
   "execution_count": 51,
   "id": "00c935d6-ba4a-41f5-9954-f357da85de6a",
   "metadata": {},
   "outputs": [
    {
     "name": "stdout",
     "output_type": "stream",
     "text": [
      "Counter({'the': 7227, 'was': 3272, 'were': 2052, 'characters': 1816, 'a': 1451, 'felt': 980, 'it': 909, 'performances': 782, 'i': 772, 'film': 736, 'cinematography': 547, 'breathtaking': 547, 'ensemble': 538, 'cast': 538, 'delivered': 538, 'solid': 538, 'character': 530, 'development': 530, 'wellexecuted': 530, 'visuals': 528, 'mediocre': 528, 'art': 521, 'direction': 521, 'forgettable': 521, 'some': 516, 'onedimensional': 516, 'every': 513, 'frame': 513, 'meticulously': 513, 'crafted': 513, 'couldnt': 511, 'connect': 511, 'with': 511, 'relatable': 505, 'special': 491, 'effects': 491, 'impressive': 491, 'too': 464, 'predictable': 464, 'mixed': 445, 'bag': 445, 'humor': 439, 'spoton': 439, 'climax': 423, 'fell': 423, 'flat': 423, 'pacing': 422, 'dragged': 422, 'in': 422, 'middle': 422, 'storyline': 407, 'kept': 407, 'me': 407, 'on': 407, 'edge': 407, 'of': 407, 'my': 407, 'seat': 407, 'wellwritten': 284, 'plot': 277, 'convoluted': 277, 'absolutely': 277, 'mesmerizing': 277, 'decent': 271, 'flick': 271, 'total': 261, 'disappointment': 261, 'found': 261, 'lacking': 261, 'an': 251, 'enjoyable': 251, 'what': 250, 'thrilling': 250, 'ride': 250, 'stellar': 244, 'this': 224, 'is': 224, 'visual': 224, 'masterpiece': 224})\n"
     ]
    }
   ],
   "source": [
    "print (count_words)"
   ]
  },
  {
   "cell_type": "code",
   "execution_count": 54,
   "id": "f40995bb-7e24-4968-838b-81b0d8b34e74",
   "metadata": {},
   "outputs": [],
   "source": [
    "vocab_to_int = {w:i for i, (w,c) in enumerate(sorted_words)}\n"
   ]
  },
  {
   "cell_type": "code",
   "execution_count": 55,
   "id": "1775a0bf-4e50-4e7f-a421-3da602aa2ecb",
   "metadata": {},
   "outputs": [],
   "source": [
    "vocab_to_int = {w:i+1 for i, (w,c) in enumerate(sorted_words)}\n"
   ]
  },
  {
   "cell_type": "code",
   "execution_count": 56,
   "id": "562c9738-f650-4cb8-8719-1172f83270ed",
   "metadata": {},
   "outputs": [
    {
     "name": "stdout",
     "output_type": "stream",
     "text": [
      "{'the': 1, 'was': 2, 'were': 3, 'characters': 4, 'a': 5, 'felt': 6, 'it': 7, 'performances': 8, 'i': 9, 'film': 10, 'cinematography': 11, 'breathtaking': 12, 'ensemble': 13, 'cast': 14, 'delivered': 15, 'solid': 16, 'character': 17, 'development': 18, 'wellexecuted': 19, 'visuals': 20, 'mediocre': 21, 'art': 22, 'direction': 23, 'forgettable': 24, 'some': 25, 'onedimensional': 26, 'every': 27, 'frame': 28, 'meticulously': 29, 'crafted': 30, 'couldnt': 31, 'connect': 32, 'with': 33, 'relatable': 34, 'special': 35, 'effects': 36, 'impressive': 37, 'too': 38, 'predictable': 39, 'mixed': 40, 'bag': 41, 'humor': 42, 'spoton': 43, 'climax': 44, 'fell': 45, 'flat': 46, 'pacing': 47, 'dragged': 48, 'in': 49, 'middle': 50, 'storyline': 51, 'kept': 52, 'me': 53, 'on': 54, 'edge': 55, 'of': 56, 'my': 57, 'seat': 58, 'wellwritten': 59, 'plot': 60, 'convoluted': 61, 'absolutely': 62, 'mesmerizing': 63, 'decent': 64, 'flick': 65, 'total': 66, 'disappointment': 67, 'found': 68, 'lacking': 69, 'an': 70, 'enjoyable': 71, 'what': 72, 'thrilling': 73, 'ride': 74, 'stellar': 75, 'this': 76, 'is': 77, 'visual': 78, 'masterpiece': 79}\n"
     ]
    }
   ],
   "source": [
    "print (vocab_to_int)"
   ]
  },
  {
   "cell_type": "code",
   "execution_count": 60,
   "id": "717678f1-dcbb-4808-8695-11ddbffc1c6e",
   "metadata": {},
   "outputs": [
    {
     "name": "stdout",
     "output_type": "stream",
     "text": [
      "[[5, 73, 20, 3, 2, 5, 40, 4, 3], [10, 77, 5, 78, 11, 2, 47, 48, 49, 1, 4, 3], [66, 11, 2, 42, 2, 32, 33, 1]]\n"
     ]
    }
   ],
   "source": [
    "reviews_int = []\n",
    "for review in reviews_split:\n",
    "    r = [vocab_to_int[w] for w in review.split() if w in vocab_to_int]  # Skip words not in vocab_to_int\n",
    "    reviews_int.append(r)\n",
    "\n",
    "print(reviews_int[0:3])\n"
   ]
  },
  {
   "cell_type": "code",
   "execution_count": 61,
   "id": "3aef40ab-3787-4bda-a18a-4d77cca08c39",
   "metadata": {},
   "outputs": [],
   "source": [
    "encoded_labels = [1 if label =='positive' else 0 for label in labels_split]\n",
    "encoded_labels = np.array(encoded_labels)"
   ]
  },
  {
   "cell_type": "code",
   "execution_count": 63,
   "id": "37687073-8d45-4084-b8e4-82c259ab68b9",
   "metadata": {},
   "outputs": [
    {
     "data": {
      "image/png": "[encoded data removed]",
      "text/plain": [
       "<Figure size 640x480 with 1 Axes>"
      ]
     },
     "metadata": {},
     "output_type": "display_data"
    },
    {
     "name": "stdout",
     "output_type": "stream",
     "text": [
      "count    2601.000000\n",
      "mean       10.386390\n",
      "std         2.569846\n",
      "min         0.000000\n",
      "25%         9.000000\n",
      "50%        10.000000\n",
      "75%        12.000000\n",
      "max        19.000000\n",
      "dtype: float64\n"
     ]
    }
   ],
   "source": [
    "import pandas as pd\n",
    "import matplotlib.pyplot as plt\n",
    "\n",
    "# Use inline plotting for Jupyter notebooks\n",
    "%matplotlib inline\n",
    "\n",
    "# Calculate the length of each review in integer format\n",
    "reviews_len = [len(x) for x in reviews_int]\n",
    "\n",
    "# Create a histogram of the review lengths\n",
    "pd.Series(reviews_len).hist()\n",
    "plt.xlabel('Length of Reviews (in words)')\n",
    "plt.ylabel('Frequency')\n",
    "plt.title('Distribution of Review Lengths')\n",
    "plt.show()\n",
    "\n",
    "# Get summary statistics of the review lengths\n",
    "print(pd.Series(reviews_len).describe())\n"
   ]
  },
  {
   "cell_type": "code",
   "execution_count": 68,
   "id": "7739c7f3-a272-4733-b8b8-3376942e57de",
   "metadata": {},
   "outputs": [
    {
     "name": "stdout",
     "output_type": "stream",
     "text": [
      "Length of reviews_int: 2600\n",
      "Length of encoded_labels: 1\n",
      "Length of reviews_len: 2601\n",
      "First few reviews_int: [[5, 73, 20, 3, 2, 5, 40, 4, 3], [10, 77, 5, 78, 11, 2, 47, 48, 49, 1, 4, 3], [66, 11, 2, 42, 2, 32, 33, 1], [4, 3, 35, 36, 3, 42, 2, 4, 6], [4, 3, 28, 2, 29, 2, 5, 40, 13, 14, 15, 16]]\n",
      "First few encoded_labels: [0]\n",
      "First few reviews_len: [9, 12, 8, 9, 12]\n"
     ]
    },
    {
     "ename": "IndexError",
     "evalue": "index 1 is out of bounds for axis 0 with size 1",
     "output_type": "error",
     "traceback": [
      "\u001b[1;31m---------------------------------------------------------------------------\u001b[0m",
      "\u001b[1;31mIndexError\u001b[0m                                Traceback (most recent call last)",
      "Cell \u001b[1;32mIn[68], line 19\u001b[0m\n\u001b[0;32m     17\u001b[0m     \u001b[38;5;28;01mif\u001b[39;00m l \u001b[38;5;241m>\u001b[39m \u001b[38;5;241m0\u001b[39m:  \u001b[38;5;66;03m# Check if the review length is greater than zero\u001b[39;00m\n\u001b[0;32m     18\u001b[0m         filtered_reviews_int\u001b[38;5;241m.\u001b[39mappend(reviews_int[i])  \u001b[38;5;66;03m# Append the corresponding review\u001b[39;00m\n\u001b[1;32m---> 19\u001b[0m         filtered_encoded_labels\u001b[38;5;241m.\u001b[39mappend(\u001b[43mencoded_labels\u001b[49m\u001b[43m[\u001b[49m\u001b[43mi\u001b[49m\u001b[43m]\u001b[49m)  \u001b[38;5;66;03m# Append the corresponding label\u001b[39;00m\n\u001b[0;32m     21\u001b[0m \u001b[38;5;66;03m# Update the original lists with the filtered results\u001b[39;00m\n\u001b[0;32m     22\u001b[0m reviews_int \u001b[38;5;241m=\u001b[39m filtered_reviews_int\n",
      "\u001b[1;31mIndexError\u001b[0m: index 1 is out of bounds for axis 0 with size 1"
     ]
    }
   ],
   "source": [
    "# Check the lengths of the lists before filtering\n",
    "print(f'Length of reviews_int: {len(reviews_int)}')\n",
    "print(f'Length of encoded_labels: {len(encoded_labels)}')\n",
    "print(f'Length of reviews_len: {len(reviews_len)}')\n",
    "\n",
    "# Inspect the contents of the lists to identify potential issues\n",
    "print('First few reviews_int:', reviews_int[:5])\n",
    "print('First few encoded_labels:', encoded_labels[:5])\n",
    "print('First few reviews_len:', reviews_len[:5])\n",
    "\n",
    "# Ensure both lists are filtered together\n",
    "filtered_reviews_int = []\n",
    "filtered_encoded_labels = []\n",
    "\n",
    "# Iterate through reviews_len and filter accordingly\n",
    "for i, l in enumerate(reviews_len):\n",
    "    if l > 0:  # Check if the review length is greater than zero\n",
    "        filtered_reviews_int.append(reviews_int[i])  # Append the corresponding review\n",
    "        filtered_encoded_labels.append(encoded_labels[i])  # Append the corresponding label\n",
    "\n",
    "# Update the original lists with the filtered results\n",
    "reviews_int = filtered_reviews_int\n",
    "encoded_labels = filtered_encoded_labels\n",
    "\n",
    "# Check the lengths after filtering\n",
    "print(f'Filtered length of reviews_int: {len(reviews_int)}')\n",
    "print(f'Filtered length of encoded_labels: {len(encoded_labels)}')\n"
   ]
  },
  {
   "cell_type": "code",
   "execution_count": 69,
   "id": "bfd8c2ab-0435-44f2-9778-ba63ba7da4de",
   "metadata": {},
   "outputs": [],
   "source": [
    "def pad_features(reviews_int, seq_length):\n",
    "    ''' Return features of review_ints, where each review is padded with 0's or truncated to the input\n",
    "    seq_length.\n",
    "    '''\n",
    "    features = np.zeros((len(reviews_int), seq_length), dtype=int)\n",
    "    \n",
    "    for i, review in enumerate(reviews_int):\n",
    "        review_len = len(review)\n",
    "        \n",
    "        if review_len <= seq_length:\n",
    "            zeroes = list(np.zeros(seq_length - review_len))\n",
    "            new = zeroes + review\n",
    "        elif review_len > seq_length:\n",
    "            new = review[0:seq_length]\n",
    "        \n",
    "        features[i, :] = np.array(new)\n",
    "    \n",
    "    return features\n"
   ]
  },
  {
   "cell_type": "code",
   "execution_count": 38,
   "id": "14fe381c-c2f7-42f0-9671-c7cff6fac189",
   "metadata": {},
   "outputs": [
    {
     "name": "stdout",
     "output_type": "stream",
     "text": [
      "[[ 0  0  1  2  3]\n",
      " [ 0  0  0  4  5]\n",
      " [ 6  7  8  9 10]\n",
      " [ 0  0  0 11 12]\n",
      " [13 14 15 16 17]\n",
      " [ 0  0  0  0 19]\n",
      " [ 0 20 21 22 23]\n",
      " [ 0  0  0  0 24]\n",
      " [ 0 25 26 27 28]\n",
      " [ 0  0  0 29 30]]\n"
     ]
    }
   ],
   "source": [
    "print (features[:10,:])"
   ]
  },
  {
   "cell_type": "code",
   "execution_count": 70,
   "id": "be1fb8a8-da06-4ad9-b9d6-44125ae94db6",
   "metadata": {},
   "outputs": [
    {
     "name": "stdout",
     "output_type": "stream",
     "text": [
      "[[ 0  0  1  2  3]\n",
      " [ 0  0  0  4  5]\n",
      " [ 6  7  8  9 10]\n",
      " [ 0  0  0 11 12]\n",
      " [13 14 15 16 17]\n",
      " [ 0  0  0  0 19]\n",
      " [ 0 20 21 22 23]\n",
      " [ 0  0  0  0 24]\n",
      " [ 0 25 26 27 28]\n",
      " [ 0  0  0 29 30]]\n"
     ]
    }
   ],
   "source": [
    "print (features[:10,:])"
   ]
  },
  {
   "cell_type": "code",
   "execution_count": 71,
   "id": "1df6416a-2983-4246-bc4e-8480f79a6532",
   "metadata": {},
   "outputs": [],
   "source": [
    "# Split the data into training, validation, and test sets\n",
    "split_frac = 0.8\n",
    "train_x = features[0:int(split_frac * len_feat)]\n",
    "train_y = encoded_labels[0:int(split_frac * len_feat)]\n",
    "\n",
    "# Remaining data for validation and test\n",
    "remaining_x = features[int(split_frac * len_feat):]\n",
    "remaining_y = encoded_labels[int(split_frac * len_feat):]\n",
    "\n",
    "# Split the remaining data into validation and test sets\n",
    "valid_x = remaining_x[0:int(len(remaining_x) * 0.5)]\n",
    "valid_y = remaining_y[0:int(len(remaining_y) * 0.5)]\n",
    "\n",
    "test_x = remaining_x[int(len(remaining_x) * 0.5):]\n",
    "test_y = remaining_y[int(len(remaining_y) * 0.5):]\n"
   ]
  },
  {
   "cell_type": "code",
   "execution_count": null,
   "id": "b1036878-0e93-4388-a30d-89a12eef8e14",
   "metadata": {},
   "outputs": [],
   "source": []
  }
 ],
 "metadata": {
  "kernelspec": {
   "display_name": "Python 3 (ipykernel)",
   "language": "python",
   "name": "python3"
  },
  "language_info": {
   "codemirror_mode": {
    "name": "ipython",
    "version": 3
   },
   "file_extension": ".py",
   "mimetype": "text/x-python",
   "name": "python",
   "nbconvert_exporter": "python",
   "pygments_lexer": "ipython3",
   "version": "3.11.0"
  }
 },
 "nbformat": 4,
 "nbformat_minor": 5
}
